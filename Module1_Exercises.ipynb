{
  "nbformat": 4,
  "nbformat_minor": 0,
  "metadata": {
    "colab": {
      "name": "Module1_Exercises.ipynb",
      "provenance": [],
      "authorship_tag": "ABX9TyPKHE+YPJnMTZfl6CMRRgu5",
      "include_colab_link": true
    },
    "kernelspec": {
      "name": "python3",
      "display_name": "Python 3"
    },
    "language_info": {
      "name": "python"
    }
  },
  "cells": [
    {
      "cell_type": "markdown",
      "metadata": {
        "id": "view-in-github",
        "colab_type": "text"
      },
      "source": [
        "<a href=\"https://colab.research.google.com/github/JonathanSosa-py/MFML/blob/main/Module1_Exercises.ipynb\" target=\"_parent\"><img src=\"https://colab.research.google.com/assets/colab-badge.svg\" alt=\"Open In Colab\"/></a>"
      ]
    },
    {
      "cell_type": "code",
      "execution_count": 1,
      "metadata": {
        "id": "7DkEFz2e_uWB"
      },
      "outputs": [],
      "source": [
        "import numpy as np\n",
        "import numpy.linalg as nlg"
      ]
    },
    {
      "cell_type": "markdown",
      "source": [
        "### 3. Calcule los siguientes productos de matrices (si es posible)."
      ],
      "metadata": {
        "id": "HlimICxdACVx"
      }
    },
    {
      "cell_type": "markdown",
      "source": [
        "#### A)\n",
        "\n",
        "\\begin{align}\n",
        "        A = \\begin{pmatrix}\n",
        "        1 & 2 \\\\\n",
        "        4 & 5 \\\\\n",
        "        7 & 8 \n",
        "        \\end{pmatrix}\n",
        "        B = \\begin{pmatrix}\n",
        "        1 & 1 & 0\\\\\n",
        "        0 & 1 & 1\\\\\n",
        "        1 & 0 & 1\n",
        "        \\end{pmatrix}\n",
        "    \\end{align}"
      ],
      "metadata": {
        "id": "9X98hSPRGL10"
      }
    },
    {
      "cell_type": "code",
      "source": [
        "# No es posible ya que la forma de ambas matrices es diferente."
      ],
      "metadata": {
        "id": "yVTYZFGKHtg2"
      },
      "execution_count": 14,
      "outputs": []
    },
    {
      "cell_type": "markdown",
      "source": [
        "#### B)\n",
        "\n",
        "\\begin{align}\n",
        "        A = \\begin{pmatrix}\n",
        "        1 & 2 & 3\\\\\n",
        "        4 & 5 & 6\\\\\n",
        "        7 & 8 & 9\n",
        "        \\end{pmatrix}\n",
        "        B = \\begin{pmatrix}\n",
        "        1 & 1 & 0\\\\\n",
        "        0 & 1 & 1\\\\\n",
        "        1 & 0 & 1\n",
        "        \\end{pmatrix}\n",
        "    \\end{align}"
      ],
      "metadata": {
        "id": "SQQkRd49H056"
      }
    },
    {
      "cell_type": "code",
      "source": [
        "A = np.matrix([[1, 2, 3], [4, 5, 6], [7, 8, 9]])\n",
        "B = np.matrix([[1, 1, 0], [0, 1, 1], [1, 0, 1]])\n",
        "AB = A.dot(B)\n",
        "A, B, AB"
      ],
      "metadata": {
        "colab": {
          "base_uri": "https://localhost:8080/"
        },
        "id": "HKbj1fFSAQDc",
        "outputId": "09a4bcda-a311-4eec-bc3e-9424f1ce88ad"
      },
      "execution_count": 15,
      "outputs": [
        {
          "output_type": "execute_result",
          "data": {
            "text/plain": [
              "(matrix([[1, 2, 3],\n",
              "         [4, 5, 6],\n",
              "         [7, 8, 9]]), matrix([[1, 1, 0],\n",
              "         [0, 1, 1],\n",
              "         [1, 0, 1]]), matrix([[ 4,  3,  5],\n",
              "         [10,  9, 11],\n",
              "         [16, 15, 17]]))"
            ]
          },
          "metadata": {},
          "execution_count": 15
        }
      ]
    },
    {
      "cell_type": "markdown",
      "source": [
        "#### C)\n",
        "\n",
        "\\begin{align}\n",
        "        A = \\begin{pmatrix}\n",
        "        1 & 1 & 0\\\\\n",
        "        0 & 1 & 1\\\\\n",
        "        1 & 0 & 1\n",
        "        \\end{pmatrix}\n",
        "        B = \\begin{pmatrix}\n",
        "        1 & 2 & 3\\\\\n",
        "        4 & 5 & 6\\\\\n",
        "        7 & 8 & 9\n",
        "        \\end{pmatrix}\n",
        "    \\end{align}"
      ],
      "metadata": {
        "id": "OlWIYJuEJpvi"
      }
    },
    {
      "cell_type": "code",
      "source": [
        "AB = B.dot(A)\n",
        "AB"
      ],
      "metadata": {
        "colab": {
          "base_uri": "https://localhost:8080/"
        },
        "id": "5204G2EQEFwc",
        "outputId": "37519640-fe5a-4ead-dcf7-82481bf1dde8"
      },
      "execution_count": 16,
      "outputs": [
        {
          "output_type": "execute_result",
          "data": {
            "text/plain": [
              "matrix([[ 5,  7,  9],\n",
              "        [11, 13, 15],\n",
              "        [ 8, 10, 12]])"
            ]
          },
          "metadata": {},
          "execution_count": 16
        }
      ]
    },
    {
      "cell_type": "markdown",
      "source": [
        "#### D)\n",
        "\n",
        "\\begin{align}\n",
        "        A = \\begin{pmatrix}\n",
        "        1 & 2 & 1 & 2\\\\\n",
        "        4 & 1 & -1 & -4\\\\\n",
        "        \\end{pmatrix}\n",
        "        B = \\begin{pmatrix}\n",
        "        0 & 3\\\\\n",
        "        1 & -1\\\\\n",
        "        2 & 1\\\\\n",
        "        5 & 2\n",
        "        \\end{pmatrix}\n",
        "    \\end{align}"
      ],
      "metadata": {
        "id": "881iKxbiJ91I"
      }
    },
    {
      "cell_type": "code",
      "source": [
        "A = np.matrix([[1, 2, 1, 2], [4, 1, -1, -4]])\n",
        "B = np.matrix([[0, 3], [1, -1], [2, 1], [5, 2]])\n",
        "AB = A.dot(B)\n",
        "A, B, AB"
      ],
      "metadata": {
        "colab": {
          "base_uri": "https://localhost:8080/"
        },
        "id": "z4O5b3YCK3XX",
        "outputId": "0f606b63-c13b-40f7-c054-c89ad832e748"
      },
      "execution_count": 17,
      "outputs": [
        {
          "output_type": "execute_result",
          "data": {
            "text/plain": [
              "(matrix([[ 1,  2,  1,  2],\n",
              "         [ 4,  1, -1, -4]]), matrix([[ 0,  3],\n",
              "         [ 1, -1],\n",
              "         [ 2,  1],\n",
              "         [ 5,  2]]), matrix([[ 14,   6],\n",
              "         [-21,   2]]))"
            ]
          },
          "metadata": {},
          "execution_count": 17
        }
      ]
    },
    {
      "cell_type": "markdown",
      "source": [
        "#### E)\n",
        "\n",
        "\\begin{align}\n",
        "        A = \\begin{pmatrix}\n",
        "        0 & 3\\\\\n",
        "        1 & -1\\\\\n",
        "        2 & 1\\\\\n",
        "        5 & 2\n",
        "        \\end{pmatrix}\n",
        "        B = \\begin{pmatrix}\n",
        "        1 & 2 & 1 & 2\\\\\n",
        "        4 & 1 & -1 & -4\\\\\n",
        "        \\end{pmatrix}\n",
        "    \\end{align}"
      ],
      "metadata": {
        "id": "jxgdRJPSKu1Q"
      }
    },
    {
      "cell_type": "code",
      "source": [
        "AB = B.dot(A)\n",
        "AB"
      ],
      "metadata": {
        "colab": {
          "base_uri": "https://localhost:8080/"
        },
        "id": "I0eW7KHRK2In",
        "outputId": "7238f133-18fe-453b-a4f3-eac4c8d95df8"
      },
      "execution_count": 19,
      "outputs": [
        {
          "output_type": "execute_result",
          "data": {
            "text/plain": [
              "matrix([[ 12,   3,  -3, -12],\n",
              "        [ -3,   1,   2,   6],\n",
              "        [  6,   5,   1,   0],\n",
              "        [ 13,  12,   3,   2]])"
            ]
          },
          "metadata": {},
          "execution_count": 19
        }
      ]
    },
    {
      "cell_type": "markdown",
      "source": [
        ""
      ],
      "metadata": {
        "id": "M_uV5Ru5GupW"
      }
    },
    {
      "cell_type": "markdown",
      "source": [
        "### 7. Determine las inversas de las siguientes matrices."
      ],
      "metadata": {
        "id": "6al1olsTGx3g"
      }
    },
    {
      "cell_type": "markdown",
      "source": [
        "#### A)\n",
        "\n",
        "\\begin{align}\n",
        "        A = \\begin{pmatrix}\n",
        "        2 & 3 & 4\\\\\n",
        "        3 & 4 & 5\\\\\n",
        "        4 & 5 & 6\n",
        "    \\end{pmatrix}\n",
        "    \\end{align}\n",
        "\n",
        "\n"
      ],
      "metadata": {
        "id": "lO4mUWDyG8QG"
      }
    },
    {
      "cell_type": "code",
      "source": [
        "A = np.matrix([[2, 3, 4], [3, 4, 5], [4, 5, 6]])\n",
        "Ainv = nlg.inv(A)\n",
        "Ainv"
      ],
      "metadata": {
        "colab": {
          "base_uri": "https://localhost:8080/",
          "height": 380
        },
        "id": "h7trs0BSG9Mq",
        "outputId": "d3215168-3d2f-4be2-ef07-48596ec6e131"
      },
      "execution_count": 11,
      "outputs": [
        {
          "output_type": "error",
          "ename": "LinAlgError",
          "evalue": "ignored",
          "traceback": [
            "\u001b[0;31m---------------------------------------------------------------------------\u001b[0m",
            "\u001b[0;31mLinAlgError\u001b[0m                               Traceback (most recent call last)",
            "\u001b[0;32m<ipython-input-11-5c8b1290cef9>\u001b[0m in \u001b[0;36m<module>\u001b[0;34m()\u001b[0m\n\u001b[1;32m      1\u001b[0m \u001b[0mA\u001b[0m \u001b[0;34m=\u001b[0m \u001b[0mnp\u001b[0m\u001b[0;34m.\u001b[0m\u001b[0mmatrix\u001b[0m\u001b[0;34m(\u001b[0m\u001b[0;34m[\u001b[0m\u001b[0;34m[\u001b[0m\u001b[0;36m2\u001b[0m\u001b[0;34m,\u001b[0m \u001b[0;36m3\u001b[0m\u001b[0;34m,\u001b[0m \u001b[0;36m4\u001b[0m\u001b[0;34m]\u001b[0m\u001b[0;34m,\u001b[0m \u001b[0;34m[\u001b[0m\u001b[0;36m3\u001b[0m\u001b[0;34m,\u001b[0m \u001b[0;36m4\u001b[0m\u001b[0;34m,\u001b[0m \u001b[0;36m5\u001b[0m\u001b[0;34m]\u001b[0m\u001b[0;34m,\u001b[0m \u001b[0;34m[\u001b[0m\u001b[0;36m4\u001b[0m\u001b[0;34m,\u001b[0m \u001b[0;36m5\u001b[0m\u001b[0;34m,\u001b[0m \u001b[0;36m6\u001b[0m\u001b[0;34m]\u001b[0m\u001b[0;34m]\u001b[0m\u001b[0;34m)\u001b[0m\u001b[0;34m\u001b[0m\u001b[0;34m\u001b[0m\u001b[0m\n\u001b[0;32m----> 2\u001b[0;31m \u001b[0mAinv\u001b[0m \u001b[0;34m=\u001b[0m \u001b[0mnlg\u001b[0m\u001b[0;34m.\u001b[0m\u001b[0minv\u001b[0m\u001b[0;34m(\u001b[0m\u001b[0mA\u001b[0m\u001b[0;34m)\u001b[0m\u001b[0;34m\u001b[0m\u001b[0;34m\u001b[0m\u001b[0m\n\u001b[0m\u001b[1;32m      3\u001b[0m \u001b[0mAinv\u001b[0m\u001b[0;34m\u001b[0m\u001b[0;34m\u001b[0m\u001b[0m\n",
            "\u001b[0;32m<__array_function__ internals>\u001b[0m in \u001b[0;36minv\u001b[0;34m(*args, **kwargs)\u001b[0m\n",
            "\u001b[0;32m/usr/local/lib/python3.7/dist-packages/numpy/linalg/linalg.py\u001b[0m in \u001b[0;36minv\u001b[0;34m(a)\u001b[0m\n\u001b[1;32m    543\u001b[0m     \u001b[0msignature\u001b[0m \u001b[0;34m=\u001b[0m \u001b[0;34m'D->D'\u001b[0m \u001b[0;32mif\u001b[0m \u001b[0misComplexType\u001b[0m\u001b[0;34m(\u001b[0m\u001b[0mt\u001b[0m\u001b[0;34m)\u001b[0m \u001b[0;32melse\u001b[0m \u001b[0;34m'd->d'\u001b[0m\u001b[0;34m\u001b[0m\u001b[0;34m\u001b[0m\u001b[0m\n\u001b[1;32m    544\u001b[0m     \u001b[0mextobj\u001b[0m \u001b[0;34m=\u001b[0m \u001b[0mget_linalg_error_extobj\u001b[0m\u001b[0;34m(\u001b[0m\u001b[0m_raise_linalgerror_singular\u001b[0m\u001b[0;34m)\u001b[0m\u001b[0;34m\u001b[0m\u001b[0;34m\u001b[0m\u001b[0m\n\u001b[0;32m--> 545\u001b[0;31m     \u001b[0mainv\u001b[0m \u001b[0;34m=\u001b[0m \u001b[0m_umath_linalg\u001b[0m\u001b[0;34m.\u001b[0m\u001b[0minv\u001b[0m\u001b[0;34m(\u001b[0m\u001b[0ma\u001b[0m\u001b[0;34m,\u001b[0m \u001b[0msignature\u001b[0m\u001b[0;34m=\u001b[0m\u001b[0msignature\u001b[0m\u001b[0;34m,\u001b[0m \u001b[0mextobj\u001b[0m\u001b[0;34m=\u001b[0m\u001b[0mextobj\u001b[0m\u001b[0;34m)\u001b[0m\u001b[0;34m\u001b[0m\u001b[0;34m\u001b[0m\u001b[0m\n\u001b[0m\u001b[1;32m    546\u001b[0m     \u001b[0;32mreturn\u001b[0m \u001b[0mwrap\u001b[0m\u001b[0;34m(\u001b[0m\u001b[0mainv\u001b[0m\u001b[0;34m.\u001b[0m\u001b[0mastype\u001b[0m\u001b[0;34m(\u001b[0m\u001b[0mresult_t\u001b[0m\u001b[0;34m,\u001b[0m \u001b[0mcopy\u001b[0m\u001b[0;34m=\u001b[0m\u001b[0;32mFalse\u001b[0m\u001b[0;34m)\u001b[0m\u001b[0;34m)\u001b[0m\u001b[0;34m\u001b[0m\u001b[0;34m\u001b[0m\u001b[0m\n\u001b[1;32m    547\u001b[0m \u001b[0;34m\u001b[0m\u001b[0m\n",
            "\u001b[0;32m/usr/local/lib/python3.7/dist-packages/numpy/linalg/linalg.py\u001b[0m in \u001b[0;36m_raise_linalgerror_singular\u001b[0;34m(err, flag)\u001b[0m\n\u001b[1;32m     86\u001b[0m \u001b[0;34m\u001b[0m\u001b[0m\n\u001b[1;32m     87\u001b[0m \u001b[0;32mdef\u001b[0m \u001b[0m_raise_linalgerror_singular\u001b[0m\u001b[0;34m(\u001b[0m\u001b[0merr\u001b[0m\u001b[0;34m,\u001b[0m \u001b[0mflag\u001b[0m\u001b[0;34m)\u001b[0m\u001b[0;34m:\u001b[0m\u001b[0;34m\u001b[0m\u001b[0;34m\u001b[0m\u001b[0m\n\u001b[0;32m---> 88\u001b[0;31m     \u001b[0;32mraise\u001b[0m \u001b[0mLinAlgError\u001b[0m\u001b[0;34m(\u001b[0m\u001b[0;34m\"Singular matrix\"\u001b[0m\u001b[0;34m)\u001b[0m\u001b[0;34m\u001b[0m\u001b[0;34m\u001b[0m\u001b[0m\n\u001b[0m\u001b[1;32m     89\u001b[0m \u001b[0;34m\u001b[0m\u001b[0m\n\u001b[1;32m     90\u001b[0m \u001b[0;32mdef\u001b[0m \u001b[0m_raise_linalgerror_nonposdef\u001b[0m\u001b[0;34m(\u001b[0m\u001b[0merr\u001b[0m\u001b[0;34m,\u001b[0m \u001b[0mflag\u001b[0m\u001b[0;34m)\u001b[0m\u001b[0;34m:\u001b[0m\u001b[0;34m\u001b[0m\u001b[0;34m\u001b[0m\u001b[0m\n",
            "\u001b[0;31mLinAlgError\u001b[0m: Singular matrix"
          ]
        }
      ]
    },
    {
      "cell_type": "markdown",
      "source": [
        "Since the determinant of this matrix is 0 we can say that it doesn't have a inverse matrix."
      ],
      "metadata": {
        "id": "BxCZsLJKJ_7w"
      }
    },
    {
      "cell_type": "markdown",
      "source": [
        "#### B)\n",
        "\n",
        "\\begin{align}\n",
        "        A = \\begin{pmatrix}\n",
        "        1 & 0 & 1 & 0\\\\\n",
        "        0 & 1 & 1 & 0\\\\\n",
        "        1 & 1 & 0 & 1\\\\\n",
        "        1 & 1 & 1 & 0\n",
        "    \\end{pmatrix}\n",
        "    \\end{align}"
      ],
      "metadata": {
        "id": "BOPaQh1uKBYE"
      }
    },
    {
      "cell_type": "code",
      "source": [
        "A = np.matrix([[1, 0, 1, 0], [0, 1, 1, 0], [1, 1, 0, 1], [1, 1, 1, 0]])\n",
        "Ainv = nlg.inv(A)\n",
        "\n",
        "# Demostration.\n",
        "np.allclose(np.dot(A, Ainv), np.eye(4))"
      ],
      "metadata": {
        "colab": {
          "base_uri": "https://localhost:8080/"
        },
        "id": "SOVL5SLwKhYv",
        "outputId": "6d37f3fe-d41d-4a42-f5cb-bedf55f104b5"
      },
      "execution_count": 8,
      "outputs": [
        {
          "output_type": "execute_result",
          "data": {
            "text/plain": [
              "True"
            ]
          },
          "metadata": {},
          "execution_count": 8
        }
      ]
    }
  ]
}